{
 "cells": [
  {
   "cell_type": "markdown",
   "id": "1ccc00e0-ddc8-49e7-9557-77c8346089e7",
   "metadata": {},
   "source": [
    "# git-lfs: Large File Storage\n",
    "\n",
    "If you want to quickstart a new **git-lfs** project, go [here](./lfs_template.ipynb)\n",
    "If you are ready to enable **git-lfs** for your repository, go [here](./lfs_tool.ipynb).\n",
    "\n",
    "### git-lfs is a git extension that enables version control for large, typically binary data assets, such as:\n",
    "\n",
    "* Audio files\n",
    "\n",
    "* Video files\n",
    "\n",
    "* model files for Machine Learning platforms such as Pytorch and Tensorflow\n",
    "\n",
    "* Any file type that is typically large (greater than a few megabytes) and is not humanly readable\n",
    "\n",
    "Git was not developed and optimized for handling these sorts of assets. While technically you can check in binary files, beyond a few megabytes per file, and/or total git storage above 1 gigabyte, git will slow down considerably and pushes, pulls etc. become slow and cumbersome. Also, git clones typically download the entire history of each file to the local instance. This is clearly not practical if the files in question have a long history of dozens or hundreds of revisions. Git does not do incremental delta coding of binary files, so each version of every binary file in your repository is downloaded in full for every cloned instance. Note that due to these reasons, the leading cloud git providers limit the size of each file as well as total repository sizes accordingly.\n",
    "\n",
    "Rather than abuse git servers such as github, gitlab, or self-hosted setups, when using lfs git stores ***pointers*** to these large binary files. A pointer is a text file with some information about the file, and a hash (sha256 digest), which is a 32-byte unique identifier of the original file.\n",
    "\n",
    "When a file added to the repository is identified as being \"large\" (what that means precisely is discussed below), the actual file's content is uploaded to an lfs server that is specifically designed to store large data files. Note that an lfs server is **not** a git server -- it doesn't handle versions, branches, merges etc., it is just a key/value store, similar to data storage services such as Amazon S3. If the data upload is successful, the **pointer** file (typically about 130 bytes long) is committed to your git repository, as a short, human-readable text file.\n",
    "\n",
    "When cloning, pulling, or updating large files in an lfs-enabled repository to your working directory, the process is reversed: git sees that the file is an lfs **pointer**, and (if the file is not already cached locally) git then downloads the actual file from the lfs server. If all goes well, the user will never need to be aware of the pointer files, because any version of any file the user wants in their working directory is replaced with the real data file when it is actually needed due to a checkout or a pull.\n",
    "\n",
    "### Run the next cell to check that git-lfs is installed (it is installed by default on Cloudburst):"
   ]
  },
  {
   "cell_type": "code",
   "execution_count": null,
   "id": "831ee0b6-0910-4632-877c-5c688d919c62",
   "metadata": {},
   "outputs": [],
   "source": [
    "!git lfs version"
   ]
  },
  {
   "cell_type": "markdown",
   "id": "4b9a338d-567d-4583-b791-11cabd6bbb12",
   "metadata": {},
   "source": [
    "The output should look something like this (the version numbers may differ):\n",
    "\n",
    "    git-lfs/2.9.2 (GitHub; linux amd64; go 1.13.5)\n",
    "    \n",
    "If instead you see an error such as `git: 'lfs' is not a command` you will need to install git-lfs on your system. "
   ]
  },
  {
   "cell_type": "markdown",
   "id": "0116df93-3232-4d9e-b43b-8f9164cd39d3",
   "metadata": {},
   "source": [
    "### What determines that a file is \"big\"?\n",
    "\n",
    "git tracks \"big\" files using a system similar to `.gitignore`. A file named `.gitattributes` contains a list of patterns to match; if the file in question matches a pattern, it will be treated as \"big\" by lfs. The precise pattern matching format is discussed [here](https://git-scm.com/docs/gitattributes). Note the use of `**` to signify that all files recursively inside a directory are to be considdered \"big\".\n",
    "\n",
    "There is a command line tool to add files and folders to be tracked by lfs:\n",
    "\n",
    "    git lfs track \"pattern\"\n",
    "    \n",
    "This will add the specified pattern to `.gitattributes`, along with some metadata."
   ]
  },
  {
   "cell_type": "markdown",
   "id": "71374c4c-9aef-4ac7-bc2f-7104f3ef3bc0",
   "metadata": {},
   "source": [
    "### Where are my lfs files stored?\n",
    "\n",
    "git-lfs looks in yet another hidden file, `.lfsconfig`, to discover where to store the actual \"big\" data. If this file is missing, git attempts to guess the lfs server spec from the git URL `origin` of the repository. This will typically be an lfs server maintained by the same organization that hosts your repository, for example **github** or **gitlab**. Note that these services may incur additional charges to your account.\n",
    "\n",
    "[Cloudburst](https://cloudburst.host) provides free lfs hosting for public (Open-source) projects. Contact us at beta@cloudburst.host if you are interested in pay-as-you-go private lfs storage.\n",
    "\n",
    "Try our **git-lfs** tool to help you migrate your projrct to use lfs: [lfs tool](./lfs_tool.ipynb)."
   ]
  }
 ],
 "metadata": {
  "kernelspec": {
   "display_name": "Python 3 (ipykernel)",
   "language": "python",
   "name": "python3"
  },
  "language_info": {
   "codemirror_mode": {
    "name": "ipython",
    "version": 3
   },
   "file_extension": ".py",
   "mimetype": "text/x-python",
   "name": "python",
   "nbconvert_exporter": "python",
   "pygments_lexer": "ipython3",
   "version": "3.8.1"
  }
 },
 "nbformat": 4,
 "nbformat_minor": 5
}
