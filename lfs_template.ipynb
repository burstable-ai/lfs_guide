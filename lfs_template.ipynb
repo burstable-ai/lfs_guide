{
 "cells": [
  {
   "cell_type": "markdown",
   "id": "dd6b2e71-fd6d-476a-aeb5-2a70aa7fcf5b",
   "metadata": {},
   "source": [
    "## Starting with the lfs template\n",
    "\n",
    "If you want to start a new project with lfs support, start here.\n",
    "\n",
    "First, go [here](https://github.com/burstable-ai/lfs_template) to our template on github.\n",
    "\n",
    "Select \"fork\" in the upper right corner of the page. Under ***repository name*** select a name for your project. You can also add a description (or you can do that later).\n",
    "\n",
    "In Cloudburst, open a terminal and clone your repository (replace *githubname* and *yourproject* with the appropriate entries):\n",
    "\n",
    "    git clone https://github.com/githubname/yourproject\n",
    "\n",
    "using **nano** or a similar text editor, edit the file `.lfsconfig`. Change the last two sections to **githubname/yourproject**.\n",
    "\n",
    "You can now use git as you would in any other repository, but your large files will be stored separately on our **datahub** server."
   ]
  }
 ],
 "metadata": {
  "kernelspec": {
   "display_name": "Python 3 (ipykernel)",
   "language": "python",
   "name": "python3"
  },
  "language_info": {
   "codemirror_mode": {
    "name": "ipython",
    "version": 3
   },
   "file_extension": ".py",
   "mimetype": "text/x-python",
   "name": "python",
   "nbconvert_exporter": "python",
   "pygments_lexer": "ipython3",
   "version": "3.8.1"
  }
 },
 "nbformat": 4,
 "nbformat_minor": 5
}
