{
 "cells": [
  {
   "cell_type": "markdown",
   "id": "4d24e8a7-e1ae-4093-9479-b9889427e11a",
   "metadata": {
    "tags": []
   },
   "source": [
    "# LFS tool\n",
    "\n",
    "This tool automates the process of setting up **git-lfs** on a git repository. \n",
    "\n",
    "Run the code cell below to select a **git** repository. Press **`select`** to pull up the file chooser; then press **`select`** again. You should see a button that says **`change`** and your repository to the right in green text."
   ]
  },
  {
   "cell_type": "code",
   "execution_count": null,
   "id": "dad93fde-800f-41b7-8264-c3eba22a7d70",
   "metadata": {},
   "outputs": [],
   "source": [
    "from ipywidgets import widgets\n",
    "from ipyfilechooser import FileChooser\n",
    "import os\n",
    "#Do this once or it gets confusing\n",
    "try:\n",
    "    fc\n",
    "except:\n",
    "    done = True\n",
    "    # Create and display a FileChooser widget\n",
    "    fc = FileChooser(os.path.expanduser(\"~/\"))\n",
    "    fc.show_only_dirs = True\n",
    "    fc.title = '<b>Choose a repository:</b>'\n",
    "    display(fc)"
   ]
  },
  {
   "cell_type": "markdown",
   "id": "db48f3d4-3638-4ca0-a60b-4747ee73950a",
   "metadata": {
    "tags": []
   },
   "source": [
    "### Specify file patterns\n",
    "\n",
    "Run the next cell to see a list of file patterns considered \"big\"; remove or add patterns to the list:"
   ]
  },
  {
   "cell_type": "code",
   "execution_count": null,
   "id": "ff75feb2-3bf3-4acf-8d6a-77b0046da987",
   "metadata": {
    "tags": []
   },
   "outputs": [],
   "source": [
    "#Generate the widget only once\n",
    "try:\n",
    "    w\n",
    "except:\n",
    "    w = widgets.Textarea(\n",
    "        value='data/**\\n*.wav\\n*.png\\n*.jpg\\n*.mp3\\n*.mp4\\n*.webm\\n*.ogg\\n*.pt\\n*.h5',\n",
    "        placeholder='Type something',\n",
    "        description='LFS patterns:',\n",
    "        disabled=False,\n",
    "        layout=widgets.Layout(height=\"172px\")\n",
    "    )\n",
    "    display(w)"
   ]
  },
  {
   "cell_type": "markdown",
   "id": "0b10dca2-f93c-4ba9-8fca-54ef80398ebf",
   "metadata": {},
   "source": [
    "### Save the lfs patterns\n",
    "The file patterns are saved in a hidden file called \n",
    "`.gitattributes`"
   ]
  },
  {
   "cell_type": "code",
   "execution_count": null,
   "id": "e04362be-f56e-40f1-a493-a0b535088dbf",
   "metadata": {
    "tags": []
   },
   "outputs": [],
   "source": [
    "path = fc.selected + \".gitattributes\"\n",
    "print (\"Creating file\", path)\n",
    "f = open(path, 'w')\n",
    "for row in w.value.split(\"\\n\"):\n",
    "    f.write(row + \" filter=lfs diff=lfs merge=lfs -text\\n\")\n",
    "f.close()\n",
    "cmd = f\"cd {fc.selected}; git add .gitattributes\"\n",
    "print (f\"Adding to project:\\n{cmd}\")\n",
    "if os.system(cmd):\n",
    "    raise Exception(\"error\")"
   ]
  },
  {
   "cell_type": "markdown",
   "id": "43b32ac6-fef1-4bdd-b46d-da6eb9fb1c54",
   "metadata": {
    "tags": []
   },
   "source": [
    "### Point to an **lfs** server\n",
    "\n",
    "Cloudburst provides a free, public LFS server for specific uses (see the TOS).\n",
    "Anyone with the LFS pointer can read your data, but there is no way to overwrite files.\n",
    "\n",
    "Note: we are using your local folder name as the remote lfs repository name. If your repository has a different name, edit the url accordingly.\n",
    "\n",
    "Edit to specify another server, or delete to use default provider's server:\n"
   ]
  },
  {
   "cell_type": "code",
   "execution_count": null,
   "id": "b62f22af-6766-47bf-9327-f419a8ec679d",
   "metadata": {},
   "outputs": [],
   "source": [
    "try:\n",
    "    t\n",
    "except:\n",
    "    url = fc.selected.strip(\"/\")\n",
    "    parts = url.split(\"/\")\n",
    "    user = parts[-2]\n",
    "    if user.find(\"jupyter-\") == 0:\n",
    "        user = user[8:]\n",
    "    repo = parts[-1]\n",
    "    url = f\"https://lfs.datahub.host/{user}/{repo}\"\n",
    "    t = widgets.Text(\n",
    "        value=url,\n",
    "        placeholder='Type something',\n",
    "        description='LFS server:',\n",
    "        layout=widgets.Layout(width=\"420px\"),\n",
    "        disabled=False\n",
    "    )\n",
    "    display(t)"
   ]
  },
  {
   "cell_type": "markdown",
   "id": "6f5b193f-4228-4b53-989f-3a4d9ab4cd9b",
   "metadata": {},
   "source": [
    "Contact us at lfsinfo@cloudburst.host to discuss private lfs storage solutions.\n",
    "\n",
    "### Save the server location\n",
    "\n",
    "Linus really digs hidden files! This one is called `.lfsconfig`:"
   ]
  },
  {
   "cell_type": "code",
   "execution_count": null,
   "id": "d195ec3b-d8b6-46bd-8b4f-da9cd85797ec",
   "metadata": {},
   "outputs": [],
   "source": [
    "if t.value:\n",
    "    path2 = fc.selected + \".lfsconfig\"\n",
    "    print (\"Setting LFS server to\", t.value)\n",
    "    f = open(path2, 'w')\n",
    "    f.write(\"[lfs]\\n  url = \" + t.value)\n",
    "    f.close()\n",
    "    cmd = f\"cd {fc.selected}; git add .lfsconfig\"\n",
    "    print (f\"Adding to project:\\n{cmd}\")\n",
    "    if os.system(cmd):\n",
    "        raise Exception(\"error\")\n",
    "else:\n",
    "    print (\"Leaving lfs url blank; git-lfs will use your git server's associated lfs server\")"
   ]
  },
  {
   "cell_type": "markdown",
   "id": "1425bf7b-901c-46fc-a306-40bcf66f0e27",
   "metadata": {},
   "source": [
    "### Update big files to the lfs lifestyle"
   ]
  },
  {
   "cell_type": "code",
   "execution_count": null,
   "id": "734b0b38-6005-459c-aefd-b056c94f9f70",
   "metadata": {},
   "outputs": [],
   "source": [
    "#So intuitive! And that documentation...\n",
    "cmd = f\"cd {fc.selected}; git add --renormalize .\"\n",
    "print (f\"Adding to project:\\n{cmd}\")\n",
    "if os.system(cmd):\n",
    "    raise Exception(\"error\")"
   ]
  },
  {
   "cell_type": "markdown",
   "id": "13037d7f-6b2e-41f2-baa2-24b7b1b288c6",
   "metadata": {},
   "source": [
    "### Commit the changes\n",
    "We've modified your big files to be lfs-compliant, and created two new system files that need to be saved to the repository. To keep these changes, run a command like:\n",
    "\n",
    "    git commit -m \"Set up LFS\"\n",
    "    \n",
    "Good luck!"
   ]
  }
 ],
 "metadata": {
  "kernelspec": {
   "display_name": "Python 3 (ipykernel)",
   "language": "python",
   "name": "python3"
  },
  "language_info": {
   "codemirror_mode": {
    "name": "ipython",
    "version": 3
   },
   "file_extension": ".py",
   "mimetype": "text/x-python",
   "name": "python",
   "nbconvert_exporter": "python",
   "pygments_lexer": "ipython3",
   "version": "3.8.1"
  }
 },
 "nbformat": 4,
 "nbformat_minor": 5
}
