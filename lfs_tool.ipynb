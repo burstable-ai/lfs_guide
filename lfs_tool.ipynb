{
 "cells": [
  {
   "cell_type": "markdown",
   "id": "4d24e8a7-e1ae-4093-9479-b9889427e11a",
   "metadata": {
    "tags": []
   },
   "source": [
    "# LFS tool\n",
    "\n",
    "This tool automates the process of setting up **git-lfs** on a git repository. Run the code cell below to start."
   ]
  },
  {
   "cell_type": "code",
   "execution_count": 1,
   "id": "dad93fde-800f-41b7-8264-c3eba22a7d70",
   "metadata": {},
   "outputs": [
    {
     "name": "stdout",
     "output_type": "stream",
     "text": [
      "click 'Select' to choose path to git repo:\n"
     ]
    },
    {
     "data": {
      "application/vnd.jupyter.widget-view+json": {
       "model_id": "159bb9eaf0944d6583ed18c622fc708f",
       "version_major": 2,
       "version_minor": 0
      },
      "text/plain": [
       "FileChooser(path='/home/jupyter-eye0inc', filename='', title='', show_hidden=False, select_desc='Select', chan…"
      ]
     },
     "metadata": {},
     "output_type": "display_data"
    },
    {
     "name": "stdout",
     "output_type": "stream",
     "text": [
      "Do not press <enter>; just run the next cell\n"
     ]
    }
   ],
   "source": [
    "from ipywidgets import widgets\n",
    "from ipyfilechooser import FileChooser\n",
    "import os\n",
    "# Create and display a FileChooser widget\n",
    "fc = FileChooser(os.path.expanduser(\"~/\"))\n",
    "print (\"click 'Select' to choose path to git repo:\")\n",
    "display(fc)\n",
    "print (\"Do not press <enter>; just run the next cell\")"
   ]
  },
  {
   "cell_type": "code",
   "execution_count": 2,
   "id": "ff75feb2-3bf3-4acf-8d6a-77b0046da987",
   "metadata": {
    "tags": []
   },
   "outputs": [
    {
     "name": "stdout",
     "output_type": "stream",
     "text": [
      "Edit the list to add or remove LFS patterns:\n"
     ]
    },
    {
     "data": {
      "application/vnd.jupyter.widget-view+json": {
       "model_id": "b37bfdb123aa4fbf9a286cdac70c95f7",
       "version_major": 2,
       "version_minor": 0
      },
      "text/plain": [
       "Textarea(value='data/**\\n*.wav\\n*.png\\n*.jpg\\n*.mp3\\n*.mp4\\n*.webm\\n*.ogg\\n*.pt\\n*.h5', description='LFS patte…"
      ]
     },
     "metadata": {},
     "output_type": "display_data"
    },
    {
     "name": "stdout",
     "output_type": "stream",
     "text": [
      "Do not press <enter>; just run the next cell\n"
     ]
    }
   ],
   "source": [
    "w = widgets.Textarea(\n",
    "    value='data/**\\n*.wav\\n*.png\\n*.jpg\\n*.mp3\\n*.mp4\\n*.webm\\n*.ogg\\n*.pt\\n*.h5',\n",
    "    placeholder='Type something',\n",
    "    description='LFS patterns:',\n",
    "    disabled=False\n",
    ")\n",
    "print (\"Edit the list to add or remove LFS patterns:\")\n",
    "display(w)\n",
    "print (\"Do not press <enter>; just run the next cell\")"
   ]
  },
  {
   "cell_type": "code",
   "execution_count": 15,
   "id": "e04362be-f56e-40f1-a493-a0b535088dbf",
   "metadata": {
    "tags": []
   },
   "outputs": [
    {
     "name": "stdout",
     "output_type": "stream",
     "text": [
      "Creating file /home/jupyter-eye0inc/testrepo/.gitattributes\n",
      "Adding to project:\n",
      "cd /home/jupyter-eye0inc/testrepo/; git add .gitattributes\n"
     ]
    }
   ],
   "source": [
    "path = fc.selected + \".gitattributes\"\n",
    "print (\"Creating file\", path)\n",
    "f = open(path, 'w')\n",
    "for row in w.value.split(\"\\n\"):\n",
    "    f.write(row + \" filter=lfs diff=lfs merge=lfs -text\\n\")\n",
    "f.close()\n",
    "cmd = f\"cd {fc.selected}; git add .gitattributes\"\n",
    "print (f\"Adding to project:\\n{cmd}\")\n",
    "if os.system(cmd):\n",
    "    raise Exception(\"error\")"
   ]
  },
  {
   "cell_type": "code",
   "execution_count": 4,
   "id": "b62f22af-6766-47bf-9327-f419a8ec679d",
   "metadata": {},
   "outputs": [
    {
     "name": "stdout",
     "output_type": "stream",
     "text": [
      "Cloudburst provides a free, public LFS server for specific uses (see the TOS).\n",
      "Anyone with the LFS pointer can access your data.\n",
      "Edit to specify another server, or delete to use default provider's server:\n"
     ]
    },
    {
     "data": {
      "application/vnd.jupyter.widget-view+json": {
       "model_id": "459879a7b95543088a701cdee01758f8",
       "version_major": 2,
       "version_minor": 0
      },
      "text/plain": [
       "Text(value='https://lfs.datahub.host/datahub/public', description='LFS server:', placeholder='Type something')"
      ]
     },
     "metadata": {},
     "output_type": "display_data"
    },
    {
     "name": "stdout",
     "output_type": "stream",
     "text": [
      "Do not press <enter>; just run the next cell\n"
     ]
    }
   ],
   "source": [
    "t = widgets.Text(\n",
    "    value='https://lfs.datahub.host/datahub/public',\n",
    "    placeholder='Type something',\n",
    "    description='LFS server:',\n",
    "    disabled=False\n",
    ")\n",
    "print (\"Cloudburst provides a free, public LFS server for specific uses (see the TOS).\")\n",
    "print (\"Anyone with the LFS pointer can access your data.\")\n",
    "print (\"Edit to specify another server, or delete to use default provider's server:\")\n",
    "display(t)\n",
    "print (\"Do not press <enter>; just run the next cell\")"
   ]
  },
  {
   "cell_type": "code",
   "execution_count": 16,
   "id": "d195ec3b-d8b6-46bd-8b4f-da9cd85797ec",
   "metadata": {},
   "outputs": [
    {
     "name": "stdout",
     "output_type": "stream",
     "text": [
      "Setting LFS server to https://lfs.datahub.host/datahub/public\n",
      "Adding to project:\n",
      "cd /home/jupyter-eye0inc/testrepo/; git add .lfsconfig\n"
     ]
    }
   ],
   "source": [
    "if t.value:\n",
    "    path2 = fc.selected + \".lfsconfig\"\n",
    "    print (\"Setting LFS server to\", t.value)\n",
    "    f = open(path2, 'w')\n",
    "    f.write(\"[lfs]\\n  url = \" + t.value)\n",
    "    f.close()\n",
    "    cmd = f\"cd {fc.selected}; git add .lfsconfig\"\n",
    "    print (f\"Adding to project:\\n{cmd}\")\n",
    "    if os.system(cmd):\n",
    "        raise Exception(\"error\")"
   ]
  },
  {
   "cell_type": "markdown",
   "id": "13037d7f-6b2e-41f2-baa2-24b7b1b288c6",
   "metadata": {},
   "source": [
    "### Commit the changes\n",
    "we've created two new system files that need to be saved to the repository. They are added; all you have to do is run a command like:\n",
    "\n",
    "    git commit -m \"Set up LFS\"\n",
    "    \n",
    "Good luck!"
   ]
  },
  {
   "cell_type": "code",
   "execution_count": null,
   "id": "f4cf256e-8cad-472f-a33d-0edcfff74054",
   "metadata": {},
   "outputs": [],
   "source": []
  }
 ],
 "metadata": {
  "kernelspec": {
   "display_name": "Python 3 (ipykernel)",
   "language": "python",
   "name": "python3"
  },
  "language_info": {
   "codemirror_mode": {
    "name": "ipython",
    "version": 3
   },
   "file_extension": ".py",
   "mimetype": "text/x-python",
   "name": "python",
   "nbconvert_exporter": "python",
   "pygments_lexer": "ipython3",
   "version": "3.8.1"
  }
 },
 "nbformat": 4,
 "nbformat_minor": 5
}
